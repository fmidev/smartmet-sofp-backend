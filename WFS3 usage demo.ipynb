{
 "cells": [
  {
   "cell_type": "markdown",
   "metadata": {},
   "source": [
    "This is a very simple demo how to use FMI WFS 3 service with owslib library. Please refer https://geopython.github.io/OWSLib/#wfs-3-0 for more information. "
   ]
  },
  {
   "cell_type": "code",
   "execution_count": 1,
   "metadata": {},
   "outputs": [],
   "source": [
    "from owslib.wfs import WebFeatureService\n",
    "w = WebFeatureService('http://beta.fmi.fi/data/3/wfs/sofp', version='3.0')                      "
   ]
  },
  {
   "cell_type": "markdown",
   "metadata": {},
   "source": [
    "Get information about collections:"
   ]
  },
  {
   "cell_type": "code",
   "execution_count": 2,
   "metadata": {},
   "outputs": [
    {
     "name": "stdout",
     "output_type": "stream",
     "text": [
      "hirlam: hirlam\n",
      "FMI hirlam surface forecast data. Default parameter set contains following parameters: GeopHeight,Temperature,Pressure,Humidity,WindDirection,WindSpeedMS,WindUMS,WindVMS,MaximumWind,WindGust,DewPoint,TotalCloudCover,WeatherSymbol3,LowCloudCover,MediumCloudCover,HighCloudCover,Precipitation1h,PrecipitationAmount,RadiationGlobalAccumulation,RadiationLWAccumulation,RadiationNetSurfaceLWAccumulation,RadiationNetSurfaceSWAccumulation,RadiationDiffuseAccumulation,LandSeaMask\n",
      " \n",
      "harmonie_scandinavia_surface: harmonie_scandinavia_surface\n",
      "FMI harmonie scandinavia surface forecast data. Default parameter set contains following parameters: GeopHeight,Temperature,Pressure,Humidity,WindDirection,WindSpeedMS,WindUMS,WindVMS,MaximumWind,WindGust,DewPoint,TotalCloudCover,WeatherSymbol3,LowCloudCover,MediumCloudCover,HighCloudCover,Precipitation1h,PrecipitationAmount,RadiationGlobalAccumulation,RadiationLWAccumulation,RadiationNetSurfaceLWAccumulation,RadiationNetSurfaceSWAccumulation,RadiationDiffuseAccumulation,LandSeaMask\n",
      " \n",
      "opendata_1m: opendata 1m\n",
      "FMI observation data. Default parameter set contains following parameters: Temperature,Pressure,Humidity,WindDirection,WindSpeedMS,WindGust,DewPoint,TotalCloudCover,Precipitation1h\n",
      " \n",
      "opendata_10m: opendata 10m\n",
      "FMI observation data. Default parameter set contains following parameters: Temperature,Pressure,Humidity,WindDirection,WindSpeedMS,WindGust,DewPoint,TotalCloudCover,Precipitation1h\n",
      " \n",
      "opendata_1h: opendata 1h\n",
      "FMI observation data. Default parameter set contains following parameters: Temperature,Pressure,Humidity,WindDirection,WindSpeedMS,WindGust,DewPoint,TotalCloudCover,Precipitation1h\n",
      " \n"
     ]
    }
   ],
   "source": [
    "collections = w.collections()\n",
    "for c in collections:\n",
    "    print(c['name']+': '+c['title'])\n",
    "    print(c['description'])\n",
    "    print(' ')"
   ]
  },
  {
   "cell_type": "markdown",
   "metadata": {},
   "source": [
    "Get data (first 10 elements):"
   ]
  },
  {
   "cell_type": "code",
   "execution_count": 3,
   "metadata": {},
   "outputs": [
    {
     "name": "stdout",
     "output_type": "stream",
     "text": [
      "         Temperature (20190225T105000 |21.02681,60.7222): 4\n",
      "            Pressure (20190225T105000 |21.02681,60.7222): 1021\n",
      "            Humidity (20190225T105000 |21.02681,60.7222): 77\n",
      "       WindDirection (20190225T105000 |21.02681,60.7222): 313\n",
      "         WindSpeedMS (20190225T105000 |21.02681,60.7222): 15\n",
      "            WindGust (20190225T105000 |21.02681,60.7222): 17\n",
      "            DewPoint (20190225T105000 |21.02681,60.7222): 0\n",
      "     TotalCloudCover (20190225T105000 |21.02681,60.7222): 0\n",
      "     Precipitation1h (20190225T105000 |21.02681,60.7222): null\n",
      "         Temperature (20190225T110000 |21.02681,60.7222): 4\n"
     ]
    }
   ],
   "source": [
    "data = w.collection_items('opendata_10m')\n",
    "for d in data['features']:\n",
    "    print('{} ({} |{},{}): {}'.format(d['properties']['observedPropertyName'].rjust(20),\n",
    "                                      d['properties']['resultTime'],\n",
    "                                      d['geometry']['coordinates'][0],\n",
    "                                      d['geometry']['coordinates'][1],\n",
    "                                      d['properties']['result']))\n"
   ]
  }
 ],
 "metadata": {
  "kernelspec": {
   "display_name": "Python 3",
   "language": "python",
   "name": "python3"
  },
  "language_info": {
   "codemirror_mode": {
    "name": "ipython",
    "version": 3
   },
   "file_extension": ".py",
   "mimetype": "text/x-python",
   "name": "python",
   "nbconvert_exporter": "python",
   "pygments_lexer": "ipython3",
   "version": "3.6.3"
  }
 },
 "nbformat": 4,
 "nbformat_minor": 2
}
